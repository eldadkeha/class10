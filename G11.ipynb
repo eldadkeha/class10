{
 "cells": [
  {
   "cell_type": "code",
   "execution_count": 2,
   "id": "b3b29615-8cf5-443d-a467-f337e019c097",
   "metadata": {},
   "outputs": [
    {
     "data": {
      "application/vnd.jupyter.widget-view+json": {
       "model_id": "3b0ca06b083f4cff8dfa6eb35d2b2806",
       "version_major": 2,
       "version_minor": 0
      },
      "text/plain": [
       "interactive(children=(IntSlider(value=20, description='Sample_Size', layout=Layout(width='500px'), max=300, mi…"
      ]
     },
     "metadata": {},
     "output_type": "display_data"
    }
   ],
   "source": [
    "# nbi:hide_in \n",
    "import pandas as pd\n",
    "import seaborn as sns\n",
    "import numpy as np\n",
    "import matplotlib.pyplot as plt\n",
    "from ipywidgets import interact, interactive, fixed, interact_manual, Layout\n",
    "import ipywidgets as widgets\n",
    "import random\n",
    "from random import choices\n",
    "from scipy import stats\n",
    "from IPython.display import HTML\n",
    "from scipy.stats import norm\n",
    "import math\n",
    "\n",
    "\n",
    "sns.set(font=\"serif\", style = \"white\")\n",
    "\n",
    "def mean_boot(Sample_Size = 20, alpha = 0.05):  \n",
    "      np.random.seed(60)\n",
    "      SampDist = np.zeros(6000)\n",
    "      Pop=np.random.normal(loc = 3.9, size = 10000)\n",
    "      for i in range(6000):\n",
    "          Samp= np.random.choice(Pop, Sample_Size)\n",
    "          SampDist[i]=np.mean(Samp)\n",
    "          typeIa = np.percentile(SampDist,(alpha*100)/2)\n",
    "          typeIb = np.percentile(SampDist,(200-alpha*100)/2)\n",
    "\n",
    "      plt.figure(figsize=(10.5,5))\n",
    "      sns.histplot(SampDist,bins=26,alpha=0.7, color=\"royalblue\", stat = \"density\", kde = False);\n",
    "      sns.kdeplot(SampDist,color=\"steelblue\", linewidth = 6);\n",
    "      plt.xlabel(\"pH levels\", size = 18)\n",
    "      plt.ylabel(\"Density\", size =18)\n",
    "      plt.yticks(size =14)\n",
    "      plt.xticks(size =14)\n",
    "      plt.ylim(0,2)\n",
    "      plt.xlim(1,6)\n",
    "\n",
    "\n",
    "      plt.axvline(x=typeIa, ymin=0,ymax=5, color='black', linestyle='--', label = chr(945)+\" Criterion\");\n",
    "      plt.axvline(x=typeIb, ymin=0,ymax=5, color='black', linestyle='--');\n",
    "      plt.axvline(x=np.mean(Samp), color='navy', linestyle='-', linewidth = 4, label = \"Samples Mean = \" + str(np.round(np.mean(Samp), decimals = 2)));\n",
    "      plt.axvline(x=np.mean(SampDist), color='steelblue', linestyle='-', linewidth = 4, label = \"Mean of The sampling distribution = \" + str(np.round(np.mean(SampDist), decimals = 2)));\n",
    "      plt.axvline(x=np.mean(Samp), color='steelblue', linestyle='-', linewidth = 0, label = \" Sample Size= 20\");\n",
    "      plt.axvline(x=np.mean(SampDist), color='black', linestyle='-', linewidth = 0, label = \"Sample Standart Deviation =\" + str(np.round(np.std(Samp), decimals = 4)));\n",
    "      plt.axvline(x=np.mean(Samp), color='navy', linestyle='-', linewidth = 0, label = \"Standart Error= \" + str(np.round((np.std(Samp))/(math.sqrt(np.count_nonzero(Samp)-1)), decimals = 4)));\n",
    "      plt.legend(fontsize = 12, loc = 2)\n",
    "      #plt.xticks(np.arange(65, 80, step=5))\n",
    "\n",
    "\n",
    "int_widget = interactive(mean_boot, Sample_Size=(2,300,1), alpha=(0,0.05,0.001))\n",
    "\n",
    "int_widget.children[0].layout = Layout(width='500px')\n",
    "int_widget.children[1].layout = Layout(width='500px')\n",
    "\n",
    "\n",
    "display(int_widget)\n",
    "\n",
    "\n",
    "\n"
   ]
  },
  {
   "cell_type": "code",
   "execution_count": null,
   "id": "d85526cd-f7ae-42c9-b78a-0f6647106b4b",
   "metadata": {},
   "outputs": [],
   "source": []
  }
 ],
 "metadata": {
  "kernelspec": {
   "display_name": "Python 3 (ipykernel)",
   "language": "python",
   "name": "python3"
  },
  "language_info": {
   "codemirror_mode": {
    "name": "ipython",
    "version": 3
   },
   "file_extension": ".py",
   "mimetype": "text/x-python",
   "name": "python",
   "nbconvert_exporter": "python",
   "pygments_lexer": "ipython3",
   "version": "3.7.12"
  }
 },
 "nbformat": 4,
 "nbformat_minor": 5
}
